{
 "cells": [
  {
   "cell_type": "code",
   "execution_count": 1,
   "metadata": {},
   "outputs": [],
   "source": [
    "import re\n",
    "import spacy\n",
    "import contractions\n",
    "import joblib\n",
    "import pandas as pd\n",
    "import numpy as np\n",
    "from datetime import datetime\n",
    "from nltk.tokenize import sent_tokenize, word_tokenize\n",
    "from nltk.corpus import stopwords\n",
    "from nltk.stem import WordNetLemmatizer\n",
    "from textblob import TextBlob\n",
    "from sklearn.metrics.pairwise import cosine_similarity\n",
    "from sklearn.feature_extraction.text import TfidfVectorizer\n",
    "from transformers import BertTokenizer, BertModel\n",
    "import torch\n",
    "import nltk"
   ]
  },
  {
   "cell_type": "code",
   "execution_count": 2,
   "metadata": {},
   "outputs": [],
   "source": [
    "data = pd.read_excel('updated_file.xlsx')"
   ]
  },
  {
   "cell_type": "code",
   "execution_count": 5,
   "metadata": {},
   "outputs": [],
   "source": [
    "# Use a single TfidfVectorizer for both Resume and Job Description\n",
    "tfidf_vectorizer4 = TfidfVectorizer()\n",
    "combined_text = data['Resume_processed'] + \" \" + data['Job_Description_processed']\n",
    "tfidf_vectorizer4.fit(combined_text)\n",
    "\n",
    "# Split the combined TF-IDF matrix back into Resume and Job Description matrices\n",
    "resume_matrix = tfidf_vectorizer4.transform(data['Resume_processed'])\n",
    "jobDescription_matrix = tfidf_vectorizer4.transform(data['Job_Description_processed'])\n",
    "\n",
    "# Calculate row-wise cosine similarity\n",
    "cos_rjd = []\n",
    "for i in range(data.shape[0]):\n",
    "    cos_rjd.append(cosine_similarity(resume_matrix[i], jobDescription_matrix[i])[0][0])"
   ]
  },
  {
   "cell_type": "code",
   "execution_count": 7,
   "metadata": {},
   "outputs": [
    {
     "data": {
      "text/plain": [
       "Role               decision\n",
       "data analyst       reject      0.103219\n",
       "                   select      0.076433\n",
       "data engineer      reject      0.236726\n",
       "                   select      0.236996\n",
       "data scientist     reject      0.208495\n",
       "                   select      0.202127\n",
       "product manager    reject      0.309318\n",
       "                   select      0.279775\n",
       "software engineer  reject      0.188870\n",
       "                   select      0.207007\n",
       "ui designer        reject      0.103275\n",
       "                   select      0.073463\n",
       "ui engineer        reject      0.360938\n",
       "                   select      0.377108\n",
       "Name: resume_jd_simi, dtype: float64"
      ]
     },
     "execution_count": 7,
     "metadata": {},
     "output_type": "execute_result"
    }
   ],
   "source": [
    "data['resume_jd_simi'] = cos_rjd\n",
    "data.groupby(['Role' , 'decision'])['resume_jd_simi'].mean()"
   ]
  },
  {
   "cell_type": "code",
   "execution_count": null,
   "metadata": {},
   "outputs": [],
   "source": []
  }
 ],
 "metadata": {
  "kernelspec": {
   "display_name": "Python 3",
   "language": "python",
   "name": "python3"
  },
  "language_info": {
   "codemirror_mode": {
    "name": "ipython",
    "version": 3
   },
   "file_extension": ".py",
   "mimetype": "text/x-python",
   "name": "python",
   "nbconvert_exporter": "python",
   "pygments_lexer": "ipython3",
   "version": "3.12.4"
  }
 },
 "nbformat": 4,
 "nbformat_minor": 2
}
