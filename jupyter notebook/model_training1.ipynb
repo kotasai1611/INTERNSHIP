{
  "nbformat": 4,
  "nbformat_minor": 0,
  "metadata": {
    "colab": {
      "provenance": [],
      "toc_visible": true
    },
    "kernelspec": {
      "name": "python3",
      "display_name": "Python 3"
    },
    "language_info": {
      "name": "python"
    }
  },
  "cells": [
    {
      "cell_type": "markdown",
      "source": [
        "### Recruitment Decision Analysis  \n",
        "----------------------------  \n",
        "This script analyzes recruitment decisions based on resume, job description, and transcript data. It includes:  \n",
        "1. **Feature Extraction**: Extracts features like resume-JD similarity, sentiment analysis, text length, and skills matching from text data.  \n",
        "2. **Train-Test Split**: Splits data into training (80%) and testing (20%) sets using sklearn.  \n",
        "3. **Hyperparameter Tuning**: Trains Logistic Regression, Decision Tree, Random Forest, and XGBoost models with grid search for hyperparameter tuning.  \n",
        "4. **Model Evaluation**: Evaluates models using metrics like accuracy, ROC AUC, and classification reports.  \n",
        "5. **In-depth Statistical Analysis**: Performs logistic regression analysis using statsmodels for statistical insights.  \n",
        "6. **Post-Model Analysis**: Includes feature importance visualization for the best-performing model.  "
      ],
      "metadata": {
        "id": "Z9PgEGXcr5fd"
      }
    },
    {
      "cell_type": "markdown",
      "source": [
        "### Import necessary libraries"
      ],
      "metadata": {
        "id": "dS8Qt1ZNyKxX"
      }
    },
    {
      "cell_type": "code",
      "source": [
        "# Import libraries\n",
        "import pandas as pd\n",
        "import numpy as np\n",
        "import matplotlib.pyplot as plt\n",
        "import seaborn as sns\n",
        "from sklearn.feature_extraction.text import TfidfVectorizer\n",
        "from sklearn.metrics.pairwise import cosine_similarity\n",
        "from sklearn.model_selection import train_test_split, GridSearchCV\n",
        "from sklearn.linear_model import LogisticRegression\n",
        "from sklearn.ensemble import RandomForestClassifier\n",
        "from xgboost import XGBClassifier\n",
        "from sklearn.tree import DecisionTreeClassifier\n",
        "from sklearn.metrics import accuracy_score, roc_auc_score, classification_report\n",
        "from sklearn.preprocessing import StandardScaler\n",
        "from sklearn.decomposition import TruncatedSVD\n",
        "import spacy\n",
        "from textblob import TextBlob\n",
        "import re\n",
        "from nltk.corpus import stopwords\n",
        "from nltk.tokenize import word_tokenize\n",
        "from nltk.stem import WordNetLemmatizer\n",
        "from nltk import download\n",
        "download('punkt')\n",
        "download('stopwords')\n",
        "download('wordnet')\n",
        "\n",
        "# Load spaCy model\n",
        "nlp = spacy.load('en_core_web_sm')\n"
      ],
      "metadata": {
        "colab": {
          "base_uri": "https://localhost:8080/"
        },
        "id": "_br565noyTWH",
        "outputId": "85f6b0bd-99ff-40c5-dc8c-1681a763ed92"
      },
      "execution_count": null,
      "outputs": [
        {
          "output_type": "stream",
          "name": "stderr",
          "text": [
            "[nltk_data] Downloading package punkt to /root/nltk_data...\n",
            "[nltk_data]   Package punkt is already up-to-date!\n",
            "[nltk_data] Downloading package stopwords to /root/nltk_data...\n",
            "[nltk_data]   Package stopwords is already up-to-date!\n",
            "[nltk_data] Downloading package wordnet to /root/nltk_data...\n",
            "[nltk_data]   Package wordnet is already up-to-date!\n"
          ]
        }
      ]
    },
    {
      "cell_type": "markdown",
      "source": [
        "# Load spaCy model"
      ],
      "metadata": {
        "id": "OO2EWjgiyuWs"
      }
    },
    {
      "cell_type": "code",
      "source": [
        "nlp = spacy.load('en_core_web_sm')"
      ],
      "metadata": {
        "id": "mzlGjNl4y2qc"
      },
      "execution_count": null,
      "outputs": []
    },
    {
      "cell_type": "markdown",
      "source": [
        "# Load dataset"
      ],
      "metadata": {
        "id": "z8m0Az8YzDv_"
      }
    },
    {
      "cell_type": "code",
      "source": [
        "data = pd.read_excel(\"/content/dataset_1_2_3_combined (1).xlsx\")"
      ],
      "metadata": {
        "id": "BiwJH-PvzFJ6"
      },
      "execution_count": null,
      "outputs": []
    },
    {
      "cell_type": "markdown",
      "source": [
        "####E.D.A"
      ],
      "metadata": {
        "id": "vVLsoW1S0Gs1"
      }
    },
    {
      "cell_type": "code",
      "source": [
        "print(\"Dataset Info:\")\n",
        "print(data.info())\n",
        "print(\"\\nTarget Variable Distribution:\")\n",
        "print(data['decision'].value_counts())\n"
      ],
      "metadata": {
        "colab": {
          "base_uri": "https://localhost:8080/"
        },
        "id": "qMA_Hvc00K3p",
        "outputId": "3e8a6ae7-84e4-41f9-c5ee-e14c4c960bcf"
      },
      "execution_count": null,
      "outputs": [
        {
          "output_type": "stream",
          "name": "stdout",
          "text": [
            "Dataset Info:\n",
            "<class 'pandas.core.frame.DataFrame'>\n",
            "RangeIndex: 1674 entries, 0 to 1673\n",
            "Data columns (total 10 columns):\n",
            " #   Column                   Non-Null Count  Dtype \n",
            "---  ------                   --------------  ----- \n",
            " 0   Unnamed: 0               1674 non-null   int64 \n",
            " 1   ID                       1674 non-null   object\n",
            " 2   Name                     1674 non-null   object\n",
            " 3   Role                     1674 non-null   object\n",
            " 4   Transcript               1674 non-null   object\n",
            " 5   Resume                   1674 non-null   object\n",
            " 6   decision                 1674 non-null   object\n",
            " 7   Reason for decision      1674 non-null   object\n",
            " 8   Job Description          1674 non-null   object\n",
            " 9   num_words_in_transcript  1674 non-null   int64 \n",
            "dtypes: int64(2), object(8)\n",
            "memory usage: 130.9+ KB\n",
            "None\n",
            "\n",
            "Target Variable Distribution:\n",
            "decision\n",
            "reject    868\n",
            "select    806\n",
            "Name: count, dtype: int64\n"
          ]
        }
      ]
    },
    {
      "cell_type": "code",
      "source": [
        "# Plot Target Variable Distribution\n",
        "sns.countplot(x='decision', data=data)\n",
        "plt.title(\"Target Variable Distribution\")\n",
        "plt.show()\n"
      ],
      "metadata": {
        "colab": {
          "base_uri": "https://localhost:8080/",
          "height": 472
        },
        "id": "kOcSef2K0QUK",
        "outputId": "b7de438b-de79-4113-d065-cdec530024e0"
      },
      "execution_count": null,
      "outputs": [
        {
          "output_type": "display_data",
          "data": {
            "text/plain": [
              "<Figure size 640x480 with 1 Axes>"
            ],
            "image/png": "[encoded data removed]"
          },
          "metadata": {}
        }
      ]
    },
    {
      "cell_type": "code",
      "source": [
        "# Check for missing values\n",
        "print(\"\\nMissing Values:\")\n",
        "print(data.isnull().sum())"
      ],
      "metadata": {
        "colab": {
          "base_uri": "https://localhost:8080/"
        },
        "id": "6mG9Z-E00T20",
        "outputId": "7a53a0a2-0bcc-4dd7-9449-d83776032a41"
      },
      "execution_count": null,
      "outputs": [
        {
          "output_type": "stream",
          "name": "stdout",
          "text": [
            "\n",
            "Missing Values:\n",
            "Unnamed: 0                 0\n",
            "ID                         0\n",
            "Name                       0\n",
            "Role                       0\n",
            "Transcript                 0\n",
            "Resume                     0\n",
            "decision                   0\n",
            "Reason for decision        0\n",
            "Job Description            0\n",
            "num_words_in_transcript    0\n",
            "dtype: int64\n"
          ]
        }
      ]
    },
    {
      "cell_type": "code",
      "source": [
        "# Correlation heatmap (only for numerical features)\n",
        "plt.figure(figsize=(10, 8))\n",
        "# Select only numerical features for correlation calculation\n",
        "numerical_data = data.select_dtypes(include=np.number)\n",
        "sns.heatmap(numerical_data.corr(), annot=True, cmap=\"coolwarm\")\n",
        "plt.title(\"Feature Correlation\")\n",
        "plt.show()"
      ],
      "metadata": {
        "colab": {
          "base_uri": "https://localhost:8080/",
          "height": 699
        },
        "id": "7kxcF6-S0XL3",
        "outputId": "ae481b6d-87a8-45d3-e595-91199a5d0c27"
      },
      "execution_count": null,
      "outputs": [
        {
          "output_type": "display_data",
          "data": {
            "text/plain": [
              "<Figure size 1000x800 with 2 Axes>"
            ],
            "image/png": "[encoded data removed]"
          },
          "metadata": {}
        }
      ]
    },
    {
      "cell_type": "markdown",
      "source": [
        "# Step 2: Preprocessing\n"
      ],
      "metadata": {
        "id": "WD6zoeUT06P9"
      }
    },
    {
      "cell_type": "code",
      "source": [
        "import nltk\n",
        "from nltk.corpus import stopwords\n",
        "from nltk.tokenize import word_tokenize\n",
        "from nltk.stem import WordNetLemmatizer\n",
        "\n",
        "# Download the 'punkt_tab' resource\n",
        "nltk.download('punkt_tab')\n",
        "\n",
        "# Rest of the code remains the same"
      ],
      "metadata": {
        "colab": {
          "base_uri": "https://localhost:8080/"
        },
        "id": "SSu23XTN1qzx",
        "outputId": "7226d7a5-2571-4c05-ae41-8cc831c5c8e8"
      },
      "execution_count": null,
      "outputs": [
        {
          "output_type": "stream",
          "name": "stderr",
          "text": [
            "[nltk_data] Downloading package punkt_tab to /root/nltk_data...\n",
            "[nltk_data]   Package punkt_tab is already up-to-date!\n"
          ]
        },
        {
          "output_type": "execute_result",
          "data": {
            "text/plain": [
              "True"
            ]
          },
          "metadata": {},
          "execution_count": 10
        }
      ]
    },
    {
      "cell_type": "markdown",
      "source": [
        "### Define Helper Classes"
      ],
      "metadata": {
        "id": "BH1r1ouXhc8a"
      }
    },
    {
      "cell_type": "code",
      "source": [
        "class TextPreprocessor:\n",
        "    def __init__(self):\n",
        "        self.lemmatizer = WordNetLemmatizer()\n",
        "        self.stop_words = set(stopwords.words('english'))\n",
        "\n",
        "    def clean_text(self, text):\n",
        "        if pd.isna(text):\n",
        "            return \"\"\n",
        "        text = str(text).lower()\n",
        "        text = re.sub(r'[^a-zA-Z\\s]', '', text)\n",
        "        tokens = word_tokenize(text)\n",
        "        tokens = [self.lemmatizer.lemmatize(token) for token in tokens if token not in self.stop_words]\n",
        "        return ' '.join(tokens)\n",
        "\n",
        "class FeatureExtractor:\n",
        "    def __init__(self):\n",
        "        self.tfidf = TfidfVectorizer(max_features=5000)\n",
        "        self.svd = TruncatedSVD(n_components=50)\n",
        "\n",
        "    def extract_features(self, resume, jd, transcript):\n",
        "        features = {}\n",
        "\n",
        "        # TF-IDF and similarities\n",
        "        tfidf_matrix = self.tfidf.fit_transform([resume, jd, transcript])\n",
        "        features['resume_jd_similarity'] = cosine_similarity(tfidf_matrix[0:1], tfidf_matrix[1:2])[0, 0]\n",
        "        features['resume_transcript_similarity'] = cosine_similarity(tfidf_matrix[0:1], tfidf_matrix[2:3])[0, 0]\n",
        "\n",
        "        # Sentiment analysis\n",
        "        features['resume_sentiment_polarity'] = TextBlob(resume).sentiment.polarity\n",
        "        features['jd_sentiment_polarity'] = TextBlob(jd).sentiment.polarity\n",
        "\n",
        "        # Text statistics\n",
        "        features['resume_length'] = len(resume.split())\n",
        "        features['jd_length'] = len(jd.split())\n",
        "\n",
        "        # Skills matching\n",
        "        skills = ['python', 'machine learning', 'data analysis', 'sql', 'deep learning']\n",
        "        resume_skills = sum(skill in resume.lower() for skill in skills)\n",
        "        jd_skills = sum(skill in jd.lower() for skill in skills)\n",
        "        features['skills_match_count'] = resume_skills\n",
        "        features['skills_match_ratio'] = resume_skills / jd_skills if jd_skills > 0 else 0\n",
        "\n",
        "        return features\n"
      ],
      "metadata": {
        "id": "EQkjvjVKhgr-"
      },
      "execution_count": null,
      "outputs": []
    },
    {
      "cell_type": "code",
      "source": [
        "# Upload your dataset\n",
        "from google.colab import files\n",
        "uploaded = files.upload()\n",
        "\n",
        "# Load data\n",
        "filename = next(iter(uploaded))\n",
        "data = pd.read_excel(filename)\n",
        "\n",
        "# Initialize preprocessor and feature extractor\n",
        "preprocessor = TextPreprocessor()\n",
        "feature_extractor = FeatureExtractor()\n",
        "\n",
        "# Preprocess text\n",
        "data['clean_resume'] = data['Resume'].apply(preprocessor.clean_text)\n",
        "data['clean_jd'] = data['Job Description'].apply(preprocessor.clean_text)\n",
        "data['clean_transcript'] = data['Transcript'].apply(preprocessor.clean_text)\n",
        "\n",
        "# Extract features\n",
        "features = []\n",
        "for _, row in data.iterrows():\n",
        "    features.append(feature_extractor.extract_features(row['clean_resume'], row['clean_jd'], row['clean_transcript']))\n",
        "\n",
        "X = pd.DataFrame(features)\n",
        "y = data['decision'].map({'select': 1, 'reject': 0})\n"
      ],
      "metadata": {
        "colab": {
          "base_uri": "https://localhost:8080/",
          "height": 73
        },
        "id": "9ssRy0BchrFS",
        "outputId": "9bc3a4e7-4494-4274-8f13-e3090efc2874"
      },
      "execution_count": null,
      "outputs": [
        {
          "output_type": "display_data",
          "data": {
            "text/plain": [
              "<IPython.core.display.HTML object>"
            ],
            "text/html": [
              "\n",
              "     <input type=\"file\" id=\"files-241b6ea0-add4-42fe-978f-43a8fa8fa143\" name=\"files[]\" multiple disabled\n",
              "        style=\"border:none\" />\n",
              "     <output id=\"result-241b6ea0-add4-42fe-978f-43a8fa8fa143\">\n",
              "      Upload widget is only available when the cell has been executed in the\n",
              "      current browser session. Please rerun this cell to enable.\n",
              "      </output>\n",
              "      <script>// Copyright 2017 Google LLC\n",
              "//\n",
              "// Licensed under the Apache License, Version 2.0 (the \"License\");\n",
              "// you may not use this file except in compliance with the License.\n",
              "// You may obtain a copy of the License at\n",
              "//\n",
              "//      http://www.apache.org/licenses/LICENSE-2.0\n",
              "//\n",
              "// Unless required by applicable law or agreed to in writing, software\n",
              "// distributed under the License is distributed on an \"AS IS\" BASIS,\n",
              "// WITHOUT WARRANTIES OR CONDITIONS OF ANY KIND, either express or implied.\n",
              "// See the License for the specific language governing permissions and\n",
              "// limitations under the License.\n",
              "\n",
              "/**\n",
              " * @fileoverview Helpers for google.colab Python module.\n",
              " */\n",
              "(function(scope) {\n",
              "function span(text, styleAttributes = {}) {\n",
              "  const element = document.createElement('span');\n",
              "  element.textContent = text;\n",
              "  for (const key of Object.keys(styleAttributes)) {\n",
              "    element.style[key] = styleAttributes[key];\n",
              "  }\n",
              "  return element;\n",
              "}\n",
              "\n",
              "// Max number of bytes which will be uploaded at a time.\n",
              "const MAX_PAYLOAD_SIZE = 100 * 1024;\n",
              "\n",
              "function _uploadFiles(inputId, outputId) {\n",
              "  const steps = uploadFilesStep(inputId, outputId);\n",
              "  const outputElement = document.getElementById(outputId);\n",
              "  // Cache steps on the outputElement to make it available for the next call\n",
              "  // to uploadFilesContinue from Python.\n",
              "  outputElement.steps = steps;\n",
              "\n",
              "  return _uploadFilesContinue(outputId);\n",
              "}\n",
              "\n",
              "// This is roughly an async generator (not supported in the browser yet),\n",
              "// where there are multiple asynchronous steps and the Python side is going\n",
              "// to poll for completion of each step.\n",
              "// This uses a Promise to block the python side on completion of each step,\n",
              "// then passes the result of the previous step as the input to the next step.\n",
              "function _uploadFilesContinue(outputId) {\n",
              "  const outputElement = document.getElementById(outputId);\n",
              "  const steps = outputElement.steps;\n",
              "\n",
              "  const next = steps.next(outputElement.lastPromiseValue);\n",
              "  return Promise.resolve(next.value.promise).then((value) => {\n",
              "    // Cache the last promise value to make it available to the next\n",
              "    // step of the generator.\n",
              "    outputElement.lastPromiseValue = value;\n",
              "    return next.value.response;\n",
              "  });\n",
              "}\n",
              "\n",
              "/**\n",
              " * Generator function which is called between each async step of the upload\n",
              " * process.\n",
              " * @param {string} inputId Element ID of the input file picker element.\n",
              " * @param {string} outputId Element ID of the output display.\n",
              " * @return {!Iterable<!Object>} Iterable of next steps.\n",
              " */\n",
              "function* uploadFilesStep(inputId, outputId) {\n",
              "  const inputElement = document.getElementById(inputId);\n",
              "  inputElement.disabled = false;\n",
              "\n",
              "  const outputElement = document.getElementById(outputId);\n",
              "  outputElement.innerHTML = '';\n",
              "\n",
              "  const pickedPromise = new Promise((resolve) => {\n",
              "    inputElement.addEventListener('change', (e) => {\n",
              "      resolve(e.target.files);\n",
              "    });\n",
              "  });\n",
              "\n",
              "  const cancel = document.createElement('button');\n",
              "  inputElement.parentElement.appendChild(cancel);\n",
              "  cancel.textContent = 'Cancel upload';\n",
              "  const cancelPromise = new Promise((resolve) => {\n",
              "    cancel.onclick = () => {\n",
              "      resolve(null);\n",
              "    };\n",
              "  });\n",
              "\n",
              "  // Wait for the user to pick the files.\n",
              "  const files = yield {\n",
              "    promise: Promise.race([pickedPromise, cancelPromise]),\n",
              "    response: {\n",
              "      action: 'starting',\n",
              "    }\n",
              "  };\n",
              "\n",
              "  cancel.remove();\n",
              "\n",
              "  // Disable the input element since further picks are not allowed.\n",
              "  inputElement.disabled = true;\n",
              "\n",
              "  if (!files) {\n",
              "    return {\n",
              "      response: {\n",
              "        action: 'complete',\n",
              "      }\n",
              "    };\n",
              "  }\n",
              "\n",
              "  for (const file of files) {\n",
              "    const li = document.createElement('li');\n",
              "    li.append(span(file.name, {fontWeight: 'bold'}));\n",
              "    li.append(span(\n",
              "        `(${file.type || 'n/a'}) - ${file.size} bytes, ` +\n",
              "        `last modified: ${\n",
              "            file.lastModifiedDate ? file.lastModifiedDate.toLocaleDateString() :\n",
              "                                    'n/a'} - `));\n",
              "    const percent = span('0% done');\n",
              "    li.appendChild(percent);\n",
              "\n",
              "    outputElement.appendChild(li);\n",
              "\n",
              "    const fileDataPromise = new Promise((resolve) => {\n",
              "      const reader = new FileReader();\n",
              "      reader.onload = (e) => {\n",
              "        resolve(e.target.result);\n",
              "      };\n",
              "      reader.readAsArrayBuffer(file);\n",
              "    });\n",
              "    // Wait for the data to be ready.\n",
              "    let fileData = yield {\n",
              "      promise: fileDataPromise,\n",
              "      response: {\n",
              "        action: 'continue',\n",
              "      }\n",
              "    };\n",
              "\n",
              "    // Use a chunked sending to avoid message size limits. See b/62115660.\n",
              "    let position = 0;\n",
              "    do {\n",
              "      const length = Math.min(fileData.byteLength - position, MAX_PAYLOAD_SIZE);\n",
              "      const chunk = new Uint8Array(fileData, position, length);\n",
              "      position += length;\n",
              "\n",
              "      const base64 = btoa(String.fromCharCode.apply(null, chunk));\n",
              "      yield {\n",
              "        response: {\n",
              "          action: 'append',\n",
              "          file: file.name,\n",
              "          data: base64,\n",
              "        },\n",
              "      };\n",
              "\n",
              "      let percentDone = fileData.byteLength === 0 ?\n",
              "          100 :\n",
              "          Math.round((position / fileData.byteLength) * 100);\n",
              "      percent.textContent = `${percentDone}% done`;\n",
              "\n",
              "    } while (position < fileData.byteLength);\n",
              "  }\n",
              "\n",
              "  // All done.\n",
              "  yield {\n",
              "    response: {\n",
              "      action: 'complete',\n",
              "    }\n",
              "  };\n",
              "}\n",
              "\n",
              "scope.google = scope.google || {};\n",
              "scope.google.colab = scope.google.colab || {};\n",
              "scope.google.colab._files = {\n",
              "  _uploadFiles,\n",
              "  _uploadFilesContinue,\n",
              "};\n",
              "})(self);\n",
              "</script> "
            ]
          },
          "metadata": {}
        },
        {
          "output_type": "stream",
          "name": "stdout",
          "text": [
            "Saving dataset_1_2_3_combined (1).xlsx to dataset_1_2_3_combined (1) (3).xlsx\n"
          ]
        }
      ]
    },
    {
      "cell_type": "markdown",
      "source": [
        "# Train-Test Split"
      ],
      "metadata": {
        "id": "3rFFJ1u-iqgM"
      }
    },
    {
      "cell_type": "code",
      "source": [
        "# Split the data\n",
        "X_train, X_test, y_train, y_test = train_test_split(X, y, test_size=0.2, stratify=y, random_state=42)\n",
        "\n",
        "# Scale features\n",
        "scaler = StandardScaler()\n",
        "X_train_scaled = scaler.fit_transform(X_train)\n",
        "X_test_scaled = scaler.transform(X_test)\n"
      ],
      "metadata": {
        "id": "97FBsWrFirck"
      },
      "execution_count": null,
      "outputs": []
    },
    {
      "cell_type": "markdown",
      "source": [
        "# Hyperparameter Tuning and Model Training"
      ],
      "metadata": {
        "id": "VXnq9y987Jfm"
      }
    },
    {
      "cell_type": "code",
      "source": [
        "!pip install scikit-learn==1.2.2"
      ],
      "metadata": {
        "colab": {
          "base_uri": "https://localhost:8080/"
        },
        "id": "W2f60d9-jHsN",
        "outputId": "986ecd8e-74ff-42d0-ef75-5d0e50ea96e2"
      },
      "execution_count": null,
      "outputs": [
        {
          "output_type": "stream",
          "name": "stdout",
          "text": [
            "Requirement already satisfied: scikit-learn==1.2.2 in /usr/local/lib/python3.10/dist-packages (1.2.2)\n",
            "Requirement already satisfied: numpy>=1.17.3 in /usr/local/lib/python3.10/dist-packages (from scikit-learn==1.2.2) (1.26.4)\n",
            "Requirement already satisfied: scipy>=1.3.2 in /usr/local/lib/python3.10/dist-packages (from scikit-learn==1.2.2) (1.13.1)\n",
            "Requirement already satisfied: joblib>=1.1.1 in /usr/local/lib/python3.10/dist-packages (from scikit-learn==1.2.2) (1.4.2)\n",
            "Requirement already satisfied: threadpoolctl>=2.0.0 in /usr/local/lib/python3.10/dist-packages (from scikit-learn==1.2.2) (3.5.0)\n"
          ]
        }
      ]
    },
    {
      "cell_type": "code",
      "source": [
        "!pip install --upgrade xgboost"
      ],
      "metadata": {
        "colab": {
          "base_uri": "https://localhost:8080/"
        },
        "id": "wIP6uD2Lja4U",
        "outputId": "f1af702c-4fe4-4ed4-e7e8-4122f0a5a8ad"
      },
      "execution_count": null,
      "outputs": [
        {
          "output_type": "stream",
          "name": "stdout",
          "text": [
            "Requirement already satisfied: xgboost in /usr/local/lib/python3.10/dist-packages (2.1.3)\n",
            "Requirement already satisfied: numpy in /usr/local/lib/python3.10/dist-packages (from xgboost) (1.26.4)\n",
            "Requirement already satisfied: nvidia-nccl-cu12 in /usr/local/lib/python3.10/dist-packages (from xgboost) (2.23.4)\n",
            "Requirement already satisfied: scipy in /usr/local/lib/python3.10/dist-packages (from xgboost) (1.13.1)\n"
          ]
        }
      ]
    },
    {
      "source": [
        "# Define models and parameter grids\n",
        "models = {\n",
        "    'Logistic Regression': (\n",
        "        LogisticRegression(random_state=42, max_iter=1000),\n",
        "        {'C': [0.01, 0.1, 1, 10], 'penalty': ['l1', 'l2'], 'solver': ['liblinear']}\n",
        "    ),\n",
        "    'Decision Tree': (\n",
        "        DecisionTreeClassifier(random_state=42),\n",
        "        {'max_depth': [5, 10, 20], 'min_samples_split': [2, 5, 10]}\n",
        "    ),\n",
        "    'Random Forest': (\n",
        "        RandomForestClassifier(random_state=42),\n",
        "        {'n_estimators': [50, 100, 200], 'max_depth': [5, 10, None]}\n",
        "    ),\n",
        "    'XGBoost': (\n",
        "        XGBClassifier(random_state=42, use_label_encoder=False),\n",
        "        {'n_estimators': [50, 100, 200], 'max_depth': [3, 5, 7], 'learning_rate': [0.01, 0.1]}\n",
        "    )\n",
        "}\n",
        "\n",
        "# Train and tune models\n",
        "best_models = {}\n",
        "for name, (model, params) in models.items():\n",
        "    print(f\"Tuning {name}...\")\n",
        "    grid_search = GridSearchCV(model, params, cv=5, scoring='roc_auc', n_jobs=-1)\n",
        "    grid_search.fit(X_train_scaled, y_train)\n",
        "    best_models[name] = grid_search.best_estimator_\n",
        "    print(f\"Best parameters for {name}: {grid_search.best_params_}\")\n"
      ],
      "cell_type": "code",
      "metadata": {
        "colab": {
          "base_uri": "https://localhost:8080/"
        },
        "id": "8xMYJxZmdcDB",
        "outputId": "5ea2d96f-2696-41d2-edc8-61c66556ed33"
      },
      "execution_count": null,
      "outputs": [
        {
          "output_type": "stream",
          "name": "stdout",
          "text": [
            "Tuning Logistic Regression...\n",
            "Best parameters for Logistic Regression: {'C': 0.01, 'penalty': 'l2', 'solver': 'liblinear'}\n",
            "Tuning Decision Tree...\n",
            "Best parameters for Decision Tree: {'max_depth': 5, 'min_samples_split': 10}\n",
            "Tuning Random Forest...\n",
            "Best parameters for Random Forest: {'max_depth': None, 'n_estimators': 50}\n",
            "Tuning XGBoost...\n"
          ]
        },
        {
          "output_type": "stream",
          "name": "stderr",
          "text": [
            "/usr/local/lib/python3.10/dist-packages/xgboost/core.py:158: UserWarning: [13:09:32] WARNING: /workspace/src/learner.cc:740: \n",
            "Parameters: { \"use_label_encoder\" } are not used.\n",
            "\n",
            "  warnings.warn(smsg, UserWarning)\n"
          ]
        },
        {
          "output_type": "stream",
          "name": "stdout",
          "text": [
            "Best parameters for XGBoost: {'learning_rate': 0.1, 'max_depth': 3, 'n_estimators': 100}\n"
          ]
        }
      ]
    },
    {
      "cell_type": "markdown",
      "source": [
        "# Model Evaluation"
      ],
      "metadata": {
        "id": "O-fhPBaals0v"
      }
    },
    {
      "cell_type": "code",
      "source": [
        "# Evaluate models\n",
        "for name, model in best_models.items():\n",
        "    print(f\"\\nEvaluating {name}...\")\n",
        "    y_pred = model.predict(X_test_scaled)\n",
        "    y_pred_proba = model.predict_proba(X_test_scaled)[:, 1]\n",
        "    print(f\"Accuracy: {accuracy_score(y_test, y_pred):.3f}\")\n",
        "    print(f\"ROC AUC: {roc_auc_score(y_test, y_pred_proba):.3f}\")\n",
        "    print(\"\\nClassification Report:\")\n",
        "    print(classification_report(y_test, y_pred))\n"
      ],
      "metadata": {
        "colab": {
          "base_uri": "https://localhost:8080/"
        },
        "id": "0vf7ONSbliG-",
        "outputId": "63678d0c-5ae2-4ba9-ddac-f936c60ceb7b"
      },
      "execution_count": null,
      "outputs": [
        {
          "output_type": "stream",
          "name": "stdout",
          "text": [
            "\n",
            "Evaluating Logistic Regression...\n",
            "Accuracy: 0.758\n",
            "ROC AUC: 0.860\n",
            "\n",
            "Classification Report:\n",
            "              precision    recall  f1-score   support\n",
            "\n",
            "           0       0.78      0.75      0.76       174\n",
            "           1       0.74      0.76      0.75       161\n",
            "\n",
            "    accuracy                           0.76       335\n",
            "   macro avg       0.76      0.76      0.76       335\n",
            "weighted avg       0.76      0.76      0.76       335\n",
            "\n",
            "\n",
            "Evaluating Decision Tree...\n",
            "Accuracy: 0.791\n",
            "ROC AUC: 0.887\n",
            "\n",
            "Classification Report:\n",
            "              precision    recall  f1-score   support\n",
            "\n",
            "           0       0.83      0.75      0.79       174\n",
            "           1       0.75      0.84      0.79       161\n",
            "\n",
            "    accuracy                           0.79       335\n",
            "   macro avg       0.79      0.79      0.79       335\n",
            "weighted avg       0.80      0.79      0.79       335\n",
            "\n",
            "\n",
            "Evaluating Random Forest...\n",
            "Accuracy: 0.764\n",
            "ROC AUC: 0.890\n",
            "\n",
            "Classification Report:\n",
            "              precision    recall  f1-score   support\n",
            "\n",
            "           0       0.77      0.77      0.77       174\n",
            "           1       0.75      0.76      0.76       161\n",
            "\n",
            "    accuracy                           0.76       335\n",
            "   macro avg       0.76      0.76      0.76       335\n",
            "weighted avg       0.76      0.76      0.76       335\n",
            "\n",
            "\n",
            "Evaluating XGBoost...\n",
            "Accuracy: 0.758\n",
            "ROC AUC: 0.901\n",
            "\n",
            "Classification Report:\n",
            "              precision    recall  f1-score   support\n",
            "\n",
            "           0       0.77      0.76      0.77       174\n",
            "           1       0.75      0.75      0.75       161\n",
            "\n",
            "    accuracy                           0.76       335\n",
            "   macro avg       0.76      0.76      0.76       335\n",
            "weighted avg       0.76      0.76      0.76       335\n",
            "\n"
          ]
        }
      ]
    },
    {
      "cell_type": "markdown",
      "source": [
        "#  Post-Model Analysis"
      ],
      "metadata": {
        "id": "KHX2yqBEl8da"
      }
    },
    {
      "cell_type": "code",
      "source": [
        "# Logistic Regression Analysis with statsmodels\n",
        "import statsmodels.api as sm\n",
        "X_train_sm = sm.add_constant(X_train_scaled)\n",
        "logit_model = sm.Logit(y_train, X_train_sm)\n",
        "logit_results = logit_model.fit()\n",
        "print(\"\\nLogistic Regression Summary:\")\n",
        "print(logit_results.summary())"
      ],
      "metadata": {
        "colab": {
          "base_uri": "https://localhost:8080/"
        },
        "id": "4E_UQy0wmATN",
        "outputId": "ca7489cc-f437-40ee-f5ca-bd3493b52389"
      },
      "execution_count": null,
      "outputs": [
        {
          "output_type": "stream",
          "name": "stdout",
          "text": [
            "Optimization terminated successfully.\n",
            "         Current function value: 0.469399\n",
            "         Iterations 7\n",
            "\n",
            "Logistic Regression Summary:\n",
            "                           Logit Regression Results                           \n",
            "==============================================================================\n",
            "Dep. Variable:               decision   No. Observations:                 1339\n",
            "Model:                          Logit   Df Residuals:                     1330\n",
            "Method:                           MLE   Df Model:                            8\n",
            "Date:                Sun, 05 Jan 2025   Pseudo R-squ.:                  0.3221\n",
            "Time:                        13:12:17   Log-Likelihood:                -628.53\n",
            "converged:                       True   LL-Null:                       -927.23\n",
            "Covariance Type:            nonrobust   LLR p-value:                8.457e-124\n",
            "==============================================================================\n",
            "                 coef    std err          z      P>|z|      [0.025      0.975]\n",
            "------------------------------------------------------------------------------\n",
            "const         -0.1877      0.075     -2.508      0.012      -0.334      -0.041\n",
            "x1             0.0277      0.094      0.295      0.768      -0.156       0.212\n",
            "x2             0.1283      0.095      1.355      0.175      -0.057       0.314\n",
            "x3             0.7916      0.089      8.902      0.000       0.617       0.966\n",
            "x4             1.4656      0.122     12.040      0.000       1.227       1.704\n",
            "x5            -0.2036      0.096     -2.116      0.034      -0.392      -0.015\n",
            "x6            -0.4524      0.076     -5.962      0.000      -0.601      -0.304\n",
            "x7             0.3636      0.086      4.220      0.000       0.195       0.532\n",
            "x8             0.0800      0.077      1.042      0.297      -0.070       0.230\n",
            "==============================================================================\n"
          ]
        }
      ]
    },
    {
      "cell_type": "code",
      "source": [
        "# Feature importance for Random Forest"
      ],
      "metadata": {
        "id": "wQ7t9ruwmIWG"
      },
      "execution_count": null,
      "outputs": []
    },
    {
      "cell_type": "code",
      "source": [
        "if 'Random Forest' in best_models:\n",
        "    rf_model = best_models['Random Forest']\n",
        "    feature_importances = pd.DataFrame({\n",
        "        'Feature': X.columns,\n",
        "        'Importance': rf_model.feature_importances_\n",
        "    }).sort_values(by='Importance', ascending=False)\n",
        "    print(\"\\nFeature Importance for Random Forest:\")\n",
        "    print(feature_importances)\n",
        "    feature_importances.head(10).plot(kind='bar', x='Feature', y='Importance', title='Top 10 Features')"
      ],
      "metadata": {
        "colab": {
          "base_uri": "https://localhost:8080/",
          "height": 846
        },
        "id": "Bt1ya7mlmM-T",
        "outputId": "9f92ef61-2058-4d6e-a83f-ef5b6b7eae68"
      },
      "execution_count": null,
      "outputs": [
        {
          "output_type": "stream",
          "name": "stdout",
          "text": [
            "\n",
            "Feature Importance for Random Forest:\n",
            "                        Feature  Importance\n",
            "2     resume_sentiment_polarity    0.270599\n",
            "0          resume_jd_similarity    0.179409\n",
            "3         jd_sentiment_polarity    0.178465\n",
            "1  resume_transcript_similarity    0.122983\n",
            "4                 resume_length    0.105358\n",
            "5                     jd_length    0.071203\n",
            "7            skills_match_ratio    0.036110\n",
            "6            skills_match_count    0.035873\n"
          ]
        },
        {
          "output_type": "display_data",
          "data": {
            "text/plain": [
              "<Figure size 640x480 with 1 Axes>"
            ],
            "image/png": "[encoded data removed]"
          },
          "metadata": {}
        }
      ]
    }
  ]
}