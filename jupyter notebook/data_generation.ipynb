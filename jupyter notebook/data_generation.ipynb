{
  "cells": [
    {
      "cell_type": "code",
      "execution_count": null,
      "metadata": {
        "colab": {
          "base_uri": "https://localhost:8080/"
        },
        "id": "lcX8vIjrD2T3",
        "outputId": "85c9594a-d64b-4b2c-a16f-364fb81330ac"
      },
      "outputs": [
        {
          "output_type": "stream",
          "name": "stdout",
          "text": [
            "Mounted at /content/drive\n"
          ]
        }
      ],
      "source": [
        "from google.colab import drive\n",
        "drive.mount('/content/drive')"
      ]
    },
    {
      "cell_type": "code",
      "execution_count": 2,
      "metadata": {
        "id": "l4n-VYTivgha"
      },
      "outputs": [],
      "source": [
        "from together import Together\n",
        "import os\n",
        "import pandas as pd\n",
        "import time\n",
        "import random\n",
        "from datetime import datetime\n",
        "\n",
        "# Set your Together.ai API key\n",
        "os.environ[\"TOGETHER_API_KEY\"] = \"6b524c1f4c5137249157731767ae0d8483dc6cfb3c503655aa97f6ea3eeaff30\"\n",
        "client = Together()\n",
        "\n",
        "# Lists provided by the user\n",
        "names = [\"Aaditya\", \"Aayu\", \"Bhuv\", \"Brij\", \"Chahal\", \"Chirag\", \"Daiwik\", \"Dipal\", \"Eashan\", \"Ehan\", \"Fanish\", \"Grishm\", \"Gyan\", \"Hans\", \"Hiral\", \"Ichaa\", \"Ilesh\", \"Jagrav\", \"Jivin\", \"Kairav\", \"Kanha\", \"Kripal\", \"Kunal\", \"Lahar\", \"Mahin\", \"Malay\", \"Manav\", \"Naksh\", \"Nakul\", \"Niraj\", \"Ojas\", \"Ovin\", \"Palash\", \"Praneel\", \"Raahi\", \"Rijul\", \"Ritul\", \"Saanjh\", \"Shray\", \"Snehal\", \"Taksha\", \"Tuhin\", \"Udanth\", \"Uttam\", \"Ujjwal\", \"Vaishnav\", \"Viral\", \"Wriddhish\", \"Yagna\", \"Yash\", \"Zev\", \"Aanya\", \"Amisha\", \"Bani\", \"Brinda\", \"Chaaya\", \"Charvi\", \"Dhanvi\", \"Disha\", \"Ekta\", \"Eshani\", \"Forum\", \"Gargi\", \"Gina\", \"Harini\", \"Harshini\", \"Hyma\", \"Iksha\", \"Ishani\", \"Janki\", \"Kamna\", \"Kashvi\", \"Laksha\", \"Larisa\", \"Manasi\", \"Mythily\", \"Naina\", \"Namrata\", \"Nirosha\", \"Oni\", \"Oshee\", \"Pratiti\", \"Parinita\", \"Pihu\", \"Rachna\", \"Roopali\", \"Ranjita\", \"Saanvi\", \"Sweta\", \"Tanima\", \"Trayi\", \"Trisha\", \"Upasana\", \"Upama\", \"Vanshika\", \"Varsha\", \"Veda\", \"Watika\", \"Yahvi\", \"Yashika\", \"Zoya\"]\n",
        "last_names = [\"Raj\", \"Sharma\", \"Iyer\", \"Patel\", \"Verma\", \"Desai\", \"Gupta\", \"Mehta\", \"Chowdhury\", \"Yadav\", \"Reddy\", \"Naidu\", \"Kumar\", \"Nair\", \"Shukla\", \"Singh\", \"Dixit\", \"Soni\", \"Shah\", \"Joshi\", \"Kohli\", \"Ghosh\", \"Choudhury\", \"Basu\", \"Tiwari\", \"Pandey\", \"Rai\", \"Bhatt\", \"Gupta\", \"Jain\", \"Sahu\", \"Gupta\", \"Mishra\", \"Das\", \"Soni\", \"Rathore\", \"Saxena\", \"Bansal\", \"Khandelwal\", \"Garg\", \"Kapoor\", \"Bhat\", \"Kaur\", \"Chawla\", \"Chopra\", \"Agarwal\", \"Mittal\", \"Bedi\", \"Ruparel\", \"Gulati\", \"Seth\", \"Kumari\", \"Thakur\", \"Bhardwaj\", \"Singh\", \"Raghav\"]\n",
        "languages_known = [\"English\", \"Tamil\", \"Hindi\", \"Sanskrit\", \"Telugu\", \"Marathi\"]\n",
        "select_reasons = [\"Excellent communication skills\", \"Strong technical knowledge\", \"Proven leadership qualities\", \"Adaptability\", \"High enthusiasm for the role\"]\n",
        "reject_reasons = [\"Lack of relevant experience\", \"Not enough technical expertise\", \"Inability to communicate clearly\", \"Unsuitable for the job role\", \"Low problem-solving abilities\"]\n",
        "designations = {\n",
        "    \"Software Developer\": {\"domains\": [\"Web Development\", \"Mobile Apps\"], \"skills\": [\"JavaScript\", \"React\", \"Node.js\"]},\n",
        "    \"Data Scientist\": {\"domains\": [\"Data Analysis\", \"Machine Learning\"], \"skills\": [\"Python\", \"R\", \"Machine Learning\"]},\n",
        "    \"Project Manager\": {\"domains\": [\"Project Management\", \"Team Leadership\"], \"skills\": [\"Agile\", \"Scrum\", \"Jira\"]}\n",
        "}\n",
        "experience_levels = [\"Beginner\", \"Intermediate\", \"Advanced\"]\n",
        "work_environments = [\"Remote\", \"On-site\", \"Hybrid\"]\n",
        "\n",
        "# Function to generate a text response based on the given prompt\n",
        "def generate_text(prompt):\n",
        "    response = client.chat.completions.create(\n",
        "        model=\"meta-llama/Llama-Vision-Free\",\n",
        "        messages=[{\"role\": \"user\", \"content\": f\":{prompt}\"}],\n",
        "    )\n",
        "    return response.choices[0].message.content\n",
        "\n",
        "# Generating data for the table\n",
        "data = []\n",
        "for i in range(250):  # Adjust the range to generate more candidates if needed\n",
        "    # Generate ID with first 4 letters of name and first 2 of last name + number\n",
        "    name = random.choice(names)\n",
        "    owner = \"KotaSai\"\n",
        "    last_name = random.choice(last_names)\n",
        "    full_name = f\"{name} {last_name}\"\n",
        "    id_formatted = f\"{owner}{i+1}\"\n",
        "\n",
        "    # Select a random role and job description\n",
        "    designation = random.choice(list(designations.keys()))\n",
        "    expected_experience = random.choice([\"0-2 years\", \"3-5 years\", \"6-8 years\", \"9+ years\"])\n",
        "    domains_needed = \", \".join(designations[designation][\"domains\"])\n",
        "    job_description = f\"Expected_experience : {expected_experience}, Domains: {domains_needed}\"\n",
        "\n",
        "    select_status = random.choice([\"Select\", \"Reject\"])\n",
        "\n",
        "    # Randomize experience level and work environment\n",
        "    experience_level = random.choice(experience_levels)\n",
        "    work_environment = random.choice(work_environments)\n",
        "\n",
        "    # Randomly select languages\n",
        "    selected_languages = random.sample(languages_known, k=random.randint(1, len(languages_known)))\n",
        "\n",
        "    # Select reasons for decision\n",
        "    reasons = random.sample(\n",
        "        select_reasons if select_status == \"Select\" else reject_reasons,\n",
        "        2\n",
        "    )\n",
        "\n",
        "    # Define prompt templates for transcripts, profiles\n",
        "    prompt_templates = {\n",
        "        \"Select\": {\n",
        "            \"transcript\": (\n",
        "                f\"Generate a positive, detailed interview transcript for candidate {full_name} interviewing for the role of {designation}. \"\n",
        "                f\"Job description: '{job_description}'. Highlight strengths such as demonstrated skills in {', '.join(designations[designation]['skills'])}, \"\n",
        "                f\"excellent problem-solving abilities, enthusiasm, and potential for growth. Emphasize their impressive experience in {domains_needed}. \"\n",
        "                f\"Do not generate generic statements like 'Here is an interview transcript for ...'.\"\n",
        "            ),\n",
        "            \"profile\": (\n",
        "                f\"Generate a detailed dummy resume for candidate {full_name}, who is interviewing for the role of {designation}. \"\n",
        "                f\"Include the following sections: Contact Information (Email, Phone), Objective (A brief about the candidate), Skills (List key skills like {', '.join(designations[designation]['skills'])}), \"\n",
        "                f\"Experience (Mention relevant roles or projects in {', '.join(domains_needed)}), Education (Degrees or certifications), Languages Known (List of languages known). \"\n",
        "                f\"Also include the work environment preference and experience level as: Experience level: {experience_level}, Work environment: {work_environment}. \"\n",
        "                f\"Ensure the resume appears realistic and matches the candidate's profile.\"\n",
        "            )\n",
        "        },\n",
        "        \"Reject\": {\n",
        "            \"transcript\": (\n",
        "                f\"Generate a detailed, constructive interview transcript for candidate {full_name} interviewing for the role of {designation}. \"\n",
        "                f\"Job description: '{job_description}'. Mention areas of improvement, such as lacking key technical skills in {', '.join(designations[designation]['skills'])}, \"\n",
        "                f\"insufficient experience in the required domains, and limited understanding of job requirements. Highlight reasons like 'Struggled to communicate ideas' or 'Needed improvement in problem-solving skills'. \"\n",
        "                f\"Do not generate generic statements like 'Here is an interview transcript for ...'.\"\n",
        "            ),\n",
        "            \"profile\": (\n",
        "                f\"Generate a detailed dummy resume for candidate {full_name} who is interviewing for the role of {designation}. \"\n",
        "                f\"Include sections like: Contact Information (Email, Phone), Objective (State the candidate's desire to work in a related field), Skills (Mention skills like {', '.join(designations[designation]['skills'])} and relevant ones), \"\n",
        "                f\"Experience (List past roles or projects and mention skills to be developed), Education (Include any degrees or certifications). \"\n",
        "                f\"Also include Work Environment preference (Remote, Hybrid, On-site) and Experience level (beginner, intermediate, advanced). \"\n",
        "                f\"Ensure the resume includes areas to improve and is constructive in tone.\"\n",
        "            )\n",
        "        }\n",
        "    }\n",
        "\n",
        "    # Generate the transcript and profile based on selection/rejection reason\n",
        "    reason = reasons[0]\n",
        "    if select_status == \"Select\":\n",
        "        transcript = generate_text(prompt_templates[\"Select\"][\"transcript\"])\n",
        "        profile = generate_text(prompt_templates[\"Select\"][\"profile\"])\n",
        "    else:\n",
        "        transcript = generate_text(prompt_templates[\"Reject\"][\"transcript\"])\n",
        "        profile = generate_text(prompt_templates[\"Reject\"][\"profile\"])\n",
        "\n",
        "    # Prepare the candidate data row\n",
        "    data.append({\n",
        "        'ID': id_formatted,\n",
        "        'Name': full_name,\n",
        "        'Role': designation,\n",
        "        'Transcript': transcript,\n",
        "        'Resume': profile,\n",
        "        'Performance': select_status,\n",
        "        'Reason for decision': \", \".join(reasons),\n",
        "        'Job Description': job_description\n",
        "    })\n",
        "\n",
        "# Delay before the next iteration\n",
        "    time.sleep(5)\n",
        "# Convert to DataFrame\n",
        "df = pd.DataFrame(data)\n",
        "\n",
        "# Save to Excel\n",
        "df.to_excel(\"Kota_Venkata_Krishna_Gopi_Krishna_Sai_data.xlsx\", index=False)"
      ]
    },
    {
      "source": [
        "!pip install together"
      ],
      "cell_type": "code",
      "metadata": {
        "colab": {
          "base_uri": "https://localhost:8080/"
        },
        "id": "EWlI20jEznUr",
        "outputId": "99af1217-c3ba-4ec9-8fd6-d97864ff9fc3"
      },
      "execution_count": 1,
      "outputs": [
        {
          "output_type": "stream",
          "name": "stdout",
          "text": [
            "Requirement already satisfied: together in /usr/local/lib/python3.11/dist-packages (1.3.11)\n",
            "Requirement already satisfied: aiohttp<4.0.0,>=3.9.3 in /usr/local/lib/python3.11/dist-packages (from together) (3.11.11)\n",
            "Requirement already satisfied: click<9.0.0,>=8.1.7 in /usr/local/lib/python3.11/dist-packages (from together) (8.1.8)\n",
            "Requirement already satisfied: eval-type-backport<0.3.0,>=0.1.3 in /usr/local/lib/python3.11/dist-packages (from together) (0.2.2)\n",
            "Requirement already satisfied: filelock<4.0.0,>=3.13.1 in /usr/local/lib/python3.11/dist-packages (from together) (3.16.1)\n",
            "Requirement already satisfied: numpy>=1.23.5 in /usr/local/lib/python3.11/dist-packages (from together) (1.26.4)\n",
            "Requirement already satisfied: pillow<11.0.0,>=10.3.0 in /usr/local/lib/python3.11/dist-packages (from together) (10.4.0)\n",
            "Requirement already satisfied: pyarrow>=10.0.1 in /usr/local/lib/python3.11/dist-packages (from together) (17.0.0)\n",
            "Requirement already satisfied: pydantic<3.0.0,>=2.6.3 in /usr/local/lib/python3.11/dist-packages (from together) (2.10.5)\n",
            "Requirement already satisfied: requests<3.0.0,>=2.31.0 in /usr/local/lib/python3.11/dist-packages (from together) (2.32.3)\n",
            "Requirement already satisfied: rich<14.0.0,>=13.8.1 in /usr/local/lib/python3.11/dist-packages (from together) (13.9.4)\n",
            "Requirement already satisfied: tabulate<0.10.0,>=0.9.0 in /usr/local/lib/python3.11/dist-packages (from together) (0.9.0)\n",
            "Requirement already satisfied: tqdm<5.0.0,>=4.66.2 in /usr/local/lib/python3.11/dist-packages (from together) (4.67.1)\n",
            "Requirement already satisfied: typer<0.16,>=0.9 in /usr/local/lib/python3.11/dist-packages (from together) (0.15.1)\n",
            "Requirement already satisfied: aiohappyeyeballs>=2.3.0 in /usr/local/lib/python3.11/dist-packages (from aiohttp<4.0.0,>=3.9.3->together) (2.4.4)\n",
            "Requirement already satisfied: aiosignal>=1.1.2 in /usr/local/lib/python3.11/dist-packages (from aiohttp<4.0.0,>=3.9.3->together) (1.3.2)\n",
            "Requirement already satisfied: attrs>=17.3.0 in /usr/local/lib/python3.11/dist-packages (from aiohttp<4.0.0,>=3.9.3->together) (24.3.0)\n",
            "Requirement already satisfied: frozenlist>=1.1.1 in /usr/local/lib/python3.11/dist-packages (from aiohttp<4.0.0,>=3.9.3->together) (1.5.0)\n",
            "Requirement already satisfied: multidict<7.0,>=4.5 in /usr/local/lib/python3.11/dist-packages (from aiohttp<4.0.0,>=3.9.3->together) (6.1.0)\n",
            "Requirement already satisfied: propcache>=0.2.0 in /usr/local/lib/python3.11/dist-packages (from aiohttp<4.0.0,>=3.9.3->together) (0.2.1)\n",
            "Requirement already satisfied: yarl<2.0,>=1.17.0 in /usr/local/lib/python3.11/dist-packages (from aiohttp<4.0.0,>=3.9.3->together) (1.18.3)\n",
            "Requirement already satisfied: annotated-types>=0.6.0 in /usr/local/lib/python3.11/dist-packages (from pydantic<3.0.0,>=2.6.3->together) (0.7.0)\n",
            "Requirement already satisfied: pydantic-core==2.27.2 in /usr/local/lib/python3.11/dist-packages (from pydantic<3.0.0,>=2.6.3->together) (2.27.2)\n",
            "Requirement already satisfied: typing-extensions>=4.12.2 in /usr/local/lib/python3.11/dist-packages (from pydantic<3.0.0,>=2.6.3->together) (4.12.2)\n",
            "Requirement already satisfied: charset-normalizer<4,>=2 in /usr/local/lib/python3.11/dist-packages (from requests<3.0.0,>=2.31.0->together) (3.4.1)\n",
            "Requirement already satisfied: idna<4,>=2.5 in /usr/local/lib/python3.11/dist-packages (from requests<3.0.0,>=2.31.0->together) (3.10)\n",
            "Requirement already satisfied: urllib3<3,>=1.21.1 in /usr/local/lib/python3.11/dist-packages (from requests<3.0.0,>=2.31.0->together) (2.3.0)\n",
            "Requirement already satisfied: certifi>=2017.4.17 in /usr/local/lib/python3.11/dist-packages (from requests<3.0.0,>=2.31.0->together) (2024.12.14)\n",
            "Requirement already satisfied: markdown-it-py>=2.2.0 in /usr/local/lib/python3.11/dist-packages (from rich<14.0.0,>=13.8.1->together) (3.0.0)\n",
            "Requirement already satisfied: pygments<3.0.0,>=2.13.0 in /usr/local/lib/python3.11/dist-packages (from rich<14.0.0,>=13.8.1->together) (2.18.0)\n",
            "Requirement already satisfied: shellingham>=1.3.0 in /usr/local/lib/python3.11/dist-packages (from typer<0.16,>=0.9->together) (1.5.4)\n",
            "Requirement already satisfied: mdurl~=0.1 in /usr/local/lib/python3.11/dist-packages (from markdown-it-py>=2.2.0->rich<14.0.0,>=13.8.1->together) (0.1.2)\n"
          ]
        }
      ]
    }
  ],
  "metadata": {
    "colab": {
      "provenance": []
    },
    "kernelspec": {
      "display_name": "Python 3",
      "name": "python3"
    },
    "language_info": {
      "name": "python"
    }
  },
  "nbformat": 4,
  "nbformat_minor": 0
}